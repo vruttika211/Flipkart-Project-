{
 "cells": [
  {
   "cell_type": "code",
   "execution_count": 26,
   "id": "de6d991f-b11e-4cb8-8f00-6d4e607bf7c9",
   "metadata": {},
   "outputs": [],
   "source": [
    "import pandas as pd\n",
    "import numpy as np\n",
    "import matplotlib.pyplot as plt\n",
    "import seaborn as sns\n",
    "import seaborn as sns"
   ]
  },
  {
   "cell_type": "code",
   "execution_count": 27,
   "id": "cb10985f-89e8-442d-8cec-776fc608d2a2",
   "metadata": {},
   "outputs": [],
   "source": [
    "df = pd.read_csv(r\"C:\\Users\\Admin\\Downloads\\Customer_support_data.csv\")"
   ]
  },
  {
   "cell_type": "code",
   "execution_count": 28,
   "id": "bab349d1-5856-4023-9f42-a391f83e20da",
   "metadata": {},
   "outputs": [
    {
     "name": "stdout",
     "output_type": "stream",
     "text": [
      "First 5 rows of the dataset:\n",
      "                              Unique id channel_name         category  \\\n",
      "0  7e9ae164-6a8b-4521-a2d4-58f7c9fff13f      Outcall  Product Queries   \n",
      "1  b07ec1b0-f376-43b6-86df-ec03da3b2e16      Outcall  Product Queries   \n",
      "2  200814dd-27c7-4149-ba2b-bd3af3092880      Inbound    Order Related   \n",
      "3  eb0d3e53-c1ca-42d3-8486-e42c8d622135      Inbound          Returns   \n",
      "4  ba903143-1e54-406c-b969-46c52f92e5df      Inbound     Cancellation   \n",
      "\n",
      "                   Sub-category Customer Remarks  \\\n",
      "0                Life Insurance              NaN   \n",
      "1  Product Specific Information              NaN   \n",
      "2             Installation/demo              NaN   \n",
      "3        Reverse Pickup Enquiry              NaN   \n",
      "4                    Not Needed              NaN   \n",
      "\n",
      "                               Order_id order_date_time Issue_reported at  \\\n",
      "0  c27c9bb4-fa36-4140-9f1f-21009254ffdb             NaN  01/08/2023 11:13   \n",
      "1  d406b0c7-ce17-4654-b9de-f08d421254bd             NaN  01/08/2023 12:52   \n",
      "2  c273368d-b961-44cb-beaf-62d6fd6c00d5             NaN  01/08/2023 20:16   \n",
      "3  5aed0059-55a4-4ec6-bb54-97942092020a             NaN  01/08/2023 20:56   \n",
      "4  e8bed5a9-6933-4aff-9dc6-ccefd7dcde59             NaN  01/08/2023 10:30   \n",
      "\n",
      "    issue_responded Survey_response_Date Customer_City Product_category  \\\n",
      "0  01/08/2023 11:47            01-Aug-23           NaN              NaN   \n",
      "1  01/08/2023 12:54            01-Aug-23           NaN              NaN   \n",
      "2  01/08/2023 20:38            01-Aug-23           NaN              NaN   \n",
      "3  01/08/2023 21:16            01-Aug-23           NaN              NaN   \n",
      "4  01/08/2023 10:32            01-Aug-23           NaN              NaN   \n",
      "\n",
      "   Item_price  connected_handling_time           Agent_name      Supervisor  \\\n",
      "0         NaN                      NaN     Richard Buchanan     Mason Gupta   \n",
      "1         NaN                      NaN        Vicki Collins       Dylan Kim   \n",
      "2         NaN                      NaN         Duane Norman    Jackson Park   \n",
      "3         NaN                      NaN       Patrick Flores     Olivia Wang   \n",
      "4         NaN                      NaN  Christopher Sanchez  Austin Johnson   \n",
      "\n",
      "           Manager    Tenure Bucket Agent Shift  CSAT Score  \n",
      "0  Jennifer Nguyen  On Job Training     Morning           5  \n",
      "1      Michael Lee              >90     Morning           5  \n",
      "2      William Kim  On Job Training     Evening           5  \n",
      "3       John Smith              >90     Evening           5  \n",
      "4      Michael Lee             0-30     Morning           5  \n"
     ]
    }
   ],
   "source": [
    "# Display the first 5 rows of the dataframe\n",
    "print(\"First 5 rows of the dataset:\")\n",
    "print(df.head())"
   ]
  },
  {
   "cell_type": "code",
   "execution_count": 29,
   "id": "ed47f9b1-2ce7-4a75-a0ec-ab124d212097",
   "metadata": {},
   "outputs": [
    {
     "name": "stdout",
     "output_type": "stream",
     "text": [
      "\n",
      "Dataset Information:\n",
      "<class 'pandas.core.frame.DataFrame'>\n",
      "RangeIndex: 85907 entries, 0 to 85906\n",
      "Data columns (total 20 columns):\n",
      " #   Column                   Non-Null Count  Dtype  \n",
      "---  ------                   --------------  -----  \n",
      " 0   Unique id                85907 non-null  object \n",
      " 1   channel_name             85907 non-null  object \n",
      " 2   category                 85907 non-null  object \n",
      " 3   Sub-category             85907 non-null  object \n",
      " 4   Customer Remarks         28742 non-null  object \n",
      " 5   Order_id                 67675 non-null  object \n",
      " 6   order_date_time          17214 non-null  object \n",
      " 7   Issue_reported at        85907 non-null  object \n",
      " 8   issue_responded          85907 non-null  object \n",
      " 9   Survey_response_Date     85907 non-null  object \n",
      " 10  Customer_City            17079 non-null  object \n",
      " 11  Product_category         17196 non-null  object \n",
      " 12  Item_price               17206 non-null  float64\n",
      " 13  connected_handling_time  242 non-null    float64\n",
      " 14  Agent_name               85907 non-null  object \n",
      " 15  Supervisor               85907 non-null  object \n",
      " 16  Manager                  85907 non-null  object \n",
      " 17  Tenure Bucket            85907 non-null  object \n",
      " 18  Agent Shift              85907 non-null  object \n",
      " 19  CSAT Score               85907 non-null  int64  \n",
      "dtypes: float64(2), int64(1), object(17)\n",
      "memory usage: 13.1+ MB\n",
      "None\n"
     ]
    }
   ],
   "source": [
    "# Get a summary of the data\n",
    "print(\"\\nDataset Information:\")\n",
    "print(df.info())"
   ]
  },
  {
   "cell_type": "code",
   "execution_count": 30,
   "id": "4278876a-7951-45fd-a55d-8ab8c51e8d33",
   "metadata": {},
   "outputs": [
    {
     "name": "stdout",
     "output_type": "stream",
     "text": [
      "\n",
      "Descriptive Statistics:\n",
      "                                   Unique id channel_name category  \\\n",
      "count                                  85907        85907    85907   \n",
      "unique                                 85907            3       12   \n",
      "top     07c7a878-0d5a-42e0-97ef-de59abec0238      Inbound  Returns   \n",
      "freq                                       1        68142    44097   \n",
      "mean                                     NaN          NaN      NaN   \n",
      "std                                      NaN          NaN      NaN   \n",
      "min                                      NaN          NaN      NaN   \n",
      "25%                                      NaN          NaN      NaN   \n",
      "50%                                      NaN          NaN      NaN   \n",
      "75%                                      NaN          NaN      NaN   \n",
      "max                                      NaN          NaN      NaN   \n",
      "\n",
      "                  Sub-category Customer Remarks  \\\n",
      "count                    85907            28742   \n",
      "unique                      57            18231   \n",
      "top     Reverse Pickup Enquiry            Good    \n",
      "freq                     22389             1390   \n",
      "mean                       NaN              NaN   \n",
      "std                        NaN              NaN   \n",
      "min                        NaN              NaN   \n",
      "25%                        NaN              NaN   \n",
      "50%                        NaN              NaN   \n",
      "75%                        NaN              NaN   \n",
      "max                        NaN              NaN   \n",
      "\n",
      "                                    Order_id   order_date_time  \\\n",
      "count                                  67675             17214   \n",
      "unique                                 67675             13766   \n",
      "top     3230db30-f8da-4c44-8636-ec76d1d3d4f3  09/08/2023 11:55   \n",
      "freq                                       1                 7   \n",
      "mean                                     NaN               NaN   \n",
      "std                                      NaN               NaN   \n",
      "min                                      NaN               NaN   \n",
      "25%                                      NaN               NaN   \n",
      "50%                                      NaN               NaN   \n",
      "75%                                      NaN               NaN   \n",
      "max                                      NaN               NaN   \n",
      "\n",
      "       Issue_reported at   issue_responded Survey_response_Date Customer_City  \\\n",
      "count              85907             85907                85907         17079   \n",
      "unique             30923             30262                   31          1782   \n",
      "top     13/08/2023 10:40  28/08/2023 00:00            28-Aug-23     HYDERABAD   \n",
      "freq                  13              3378                 3452           722   \n",
      "mean                 NaN               NaN                  NaN           NaN   \n",
      "std                  NaN               NaN                  NaN           NaN   \n",
      "min                  NaN               NaN                  NaN           NaN   \n",
      "25%                  NaN               NaN                  NaN           NaN   \n",
      "50%                  NaN               NaN                  NaN           NaN   \n",
      "75%                  NaN               NaN                  NaN           NaN   \n",
      "max                  NaN               NaN                  NaN           NaN   \n",
      "\n",
      "       Product_category     Item_price  connected_handling_time    Agent_name  \\\n",
      "count             17196   17206.000000               242.000000         85907   \n",
      "unique                9            NaN                      NaN          1371   \n",
      "top         Electronics            NaN                      NaN  Wendy Taylor   \n",
      "freq               4706            NaN                      NaN           429   \n",
      "mean                NaN    5660.774846               462.400826           NaN   \n",
      "std                 NaN   12825.728411               246.295037           NaN   \n",
      "min                 NaN       0.000000                 0.000000           NaN   \n",
      "25%                 NaN     392.000000               293.000000           NaN   \n",
      "50%                 NaN     979.000000               427.000000           NaN   \n",
      "75%                 NaN    2699.750000               592.250000           NaN   \n",
      "max                 NaN  164999.000000              1986.000000           NaN   \n",
      "\n",
      "         Supervisor     Manager Tenure Bucket Agent Shift    CSAT Score  \n",
      "count         85907       85907         85907       85907  85907.000000  \n",
      "unique           40           6             5           5           NaN  \n",
      "top     Carter Park  John Smith           >90     Morning           NaN  \n",
      "freq           4273       25261         30660       41426           NaN  \n",
      "mean            NaN         NaN           NaN         NaN      4.242157  \n",
      "std             NaN         NaN           NaN         NaN      1.378903  \n",
      "min             NaN         NaN           NaN         NaN      1.000000  \n",
      "25%             NaN         NaN           NaN         NaN      4.000000  \n",
      "50%             NaN         NaN           NaN         NaN      5.000000  \n",
      "75%             NaN         NaN           NaN         NaN      5.000000  \n",
      "max             NaN         NaN           NaN         NaN      5.000000  \n"
     ]
    }
   ],
   "source": [
    "# Get descriptive statistics\n",
    "print(\"\\nDescriptive Statistics:\")\n",
    "print(df.describe(include='all'))"
   ]
  },
  {
   "cell_type": "code",
   "execution_count": 31,
   "id": "012bb0f0-7938-4720-8f85-196e055d2c17",
   "metadata": {},
   "outputs": [],
   "source": [
    "# Drop columns that are not useful for the analysis.\n",
    "df = df.drop(columns=['Unique id', 'Customer Remarks', 'Order_id', 'order_date_time'])"
   ]
  },
  {
   "cell_type": "code",
   "execution_count": 32,
   "id": "3d5082ff-d185-4c6b-99b6-d21dd49b4b28",
   "metadata": {},
   "outputs": [],
   "source": [
    "# Convert date columns to datetime objects\n",
    "df['Issue_reported at'] = pd.to_datetime(df['Issue_reported at'], format='%d/%m/%Y %H:%M')\n",
    "df['issue_responded'] = pd.to_datetime(df['issue_responded'], format='%d/%m/%Y %H:%M')"
   ]
  },
  {
   "cell_type": "code",
   "execution_count": 33,
   "id": "1ee80fb0-6a51-4550-9f0e-41d6f47d3d52",
   "metadata": {},
   "outputs": [],
   "source": [
    "# Handle missing values. For simplicity, we'll fill categorical columns with 'Unknown'.\n",
    "for col in ['Customer_City', 'Product_category', 'Item_price']:\n",
    "    if df[col].isnull().sum() > 0:\n",
    "        if df[col].dtype == 'object':\n",
    "            df[col] = df[col].fillna('Unknown')\n",
    "        else:\n",
    "            # For numerical columns, fill with the mean or median\n",
    "            df[col] = df[col].fillna(df[col].median())"
   ]
  },
  {
   "cell_type": "code",
   "execution_count": 34,
   "id": "93e1540e-1b10-465d-8f1b-49c310a831f8",
   "metadata": {},
   "outputs": [],
   "source": [
    "# Create a new feature: 'Resolution_Time_Minutes'\n",
    "df['Resolution_Time_Minutes'] = (df['issue_responded'] - df['Issue_reported at']).dt.total_seconds() / 60"
   ]
  },
  {
   "cell_type": "code",
   "execution_count": 35,
   "id": "bcf54fd8-494e-4e6d-9e7a-85d7fa3254c0",
   "metadata": {},
   "outputs": [
    {
     "name": "stdout",
     "output_type": "stream",
     "text": [
      "\n",
      "Missing values after cleaning:\n",
      "channel_name                   0\n",
      "category                       0\n",
      "Sub-category                   0\n",
      "Issue_reported at              0\n",
      "issue_responded                0\n",
      "Survey_response_Date           0\n",
      "Customer_City                  0\n",
      "Product_category               0\n",
      "Item_price                     0\n",
      "connected_handling_time    85665\n",
      "Agent_name                     0\n",
      "Supervisor                     0\n",
      "Manager                        0\n",
      "Tenure Bucket                  0\n",
      "Agent Shift                    0\n",
      "CSAT Score                     0\n",
      "Resolution_Time_Minutes        0\n",
      "dtype: int64\n"
     ]
    }
   ],
   "source": [
    "# Check for remaining missing values\n",
    "print(\"\\nMissing values after cleaning:\")\n",
    "print(df.isnull().sum())"
   ]
  },
  {
   "cell_type": "code",
   "execution_count": 36,
   "id": "43b3a4ae-a59a-4963-aa64-1e9be17d6f1c",
   "metadata": {},
   "outputs": [
    {
     "data": {
      "text/plain": [
       "Text(0.5, 0.98, 'Key Insights from Customer Support Data')"
      ]
     },
     "execution_count": 36,
     "metadata": {},
     "output_type": "execute_result"
    },
    {
     "data": {
      "image/png": "[encoded data removed]",
      "text/plain": [
       "<Figure size 1800x1200 with 4 Axes>"
      ]
     },
     "metadata": {},
     "output_type": "display_data"
    }
   ],
   "source": [
    "# Create a figure with a few subplots\n",
    "fig, axes = plt.subplots(2, 2, figsize=(18, 12))\n",
    "fig.suptitle('Key Insights from Customer Support Data', fontsize=16)\n"
   ]
  },
  {
   "cell_type": "code",
   "execution_count": 37,
   "id": "5e10ee21-d5e4-46d5-827b-bcdc1bc29c31",
   "metadata": {},
   "outputs": [
    {
     "data": {
      "text/plain": [
       "Text(4.444444444444452, 0.5, 'Number of Customers')"
      ]
     },
     "execution_count": 37,
     "metadata": {},
     "output_type": "execute_result"
    }
   ],
   "source": [
    "# Plot 1: Distribution of CSAT Scores\n",
    "sns.countplot(x='CSAT Score', data=df, ax=axes[0, 0], hue='CSAT Score', legend=False, palette='viridis')\n",
    "axes[0, 0].set_title('Distribution of CSAT Scores')\n",
    "axes[0, 0].set_xlabel('CSAT Score')\n",
    "axes[0, 0].set_ylabel('Number of Customers')"
   ]
  },
  {
   "cell_type": "code",
   "execution_count": 38,
   "id": "ef572bdb-1987-430f-8df7-e9dd2ad0d415",
   "metadata": {},
   "outputs": [
    {
     "data": {
      "text/plain": [
       "Text(765.3535353535352, 0.5, 'CSAT Score')"
      ]
     },
     "execution_count": 38,
     "metadata": {},
     "output_type": "execute_result"
    }
   ],
   "source": [
    "# Plot 2: Customer Satisfaction by Channel\n",
    "sns.boxplot(x='channel_name', y='CSAT Score', data=df, ax=axes[0, 1], hue='channel_name', legend=False, palette='pastel')\n",
    "axes[0, 1].set_title('Customer Satisfaction by Channel')\n",
    "axes[0, 1].set_xlabel('Channel Name')\n",
    "axes[0, 1].set_ylabel('CSAT Score')"
   ]
  },
  {
   "cell_type": "code",
   "execution_count": 39,
   "id": "037aee40-c630-4d79-a71e-88b5e18706f6",
   "metadata": {},
   "outputs": [
    {
     "data": {
      "text/plain": [
       "Text(4.444444444444452, 0.5, 'Product Category')"
      ]
     },
     "execution_count": 39,
     "metadata": {},
     "output_type": "execute_result"
    }
   ],
   "source": [
    "# Plot 3: Top 10 Product Categories by complaint volume\n",
    "top_categories = df['Product_category'].value_counts().nlargest(10)\n",
    "sns.barplot(x=top_categories.values, y=top_categories.index, ax=axes[1, 0], hue=top_categories.index, legend=False, palette='magma')\n",
    "axes[1, 0].set_title('Top 10 Product Categories by Complaint Volume')\n",
    "axes[1, 0].set_xlabel('Number of Complaints')\n",
    "axes[1, 0].set_ylabel('Product Category')"
   ]
  },
  {
   "cell_type": "code",
   "execution_count": 41,
   "id": "b2a976f4-dd4b-4961-b4c1-d1b60008275d",
   "metadata": {},
   "outputs": [
    {
     "data": {
      "text/plain": [
       "<Figure size 640x480 with 0 Axes>"
      ]
     },
     "metadata": {},
     "output_type": "display_data"
    }
   ],
   "source": [
    "# Plot 4: Relationship between Resolution Time and CSAT Score\n",
    "sns.scatterplot(x='Resolution_Time_Minutes', y='CSAT Score', data=df, ax=axes[1, 1], alpha=0.5)\n",
    "axes[1, 1].set_title('Resolution Time vs. CSAT Score')\n",
    "axes[1, 1].set_xlabel('Resolution Time (minutes)')\n",
    "axes[1, 1].set_ylabel('CSAT Score')\n",
    "axes[1, 1].set_xlim(0, 1000) # Limit x-axis to a reasonable range for better visualization\n",
    "plt.tight_layout(rect=[0, 0.03, 1, 0.95])\n",
    "plt.show()"
   ]
  },
  {
   "cell_type": "code",
   "execution_count": null,
   "id": "a7bdc5c5-1ca5-4d32-ba64-64ebe9c72767",
   "metadata": {},
   "outputs": [],
   "source": []
  },
  {
   "cell_type": "code",
   "execution_count": null,
   "id": "c6091753-10a7-4c3d-a183-914583a26a93",
   "metadata": {},
   "outputs": [],
   "source": []
  }
 ],
 "metadata": {
  "kernelspec": {
   "display_name": "Python 3 (ipykernel)",
   "language": "python",
   "name": "python3"
  },
  "language_info": {
   "codemirror_mode": {
    "name": "ipython",
    "version": 3
   },
   "file_extension": ".py",
   "mimetype": "text/x-python",
   "name": "python",
   "nbconvert_exporter": "python",
   "pygments_lexer": "ipython3",
   "version": "3.13.5"
  }
 },
 "nbformat": 4,
 "nbformat_minor": 5
}
